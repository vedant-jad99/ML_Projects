{
  "nbformat": 4,
  "nbformat_minor": 0,
  "metadata": {
    "colab": {
      "name": "ConvNet1_hwdr.ipynb",
      "provenance": [],
      "collapsed_sections": [],
      "authorship_tag": "ABX9TyOpY3m9BKXXlp4//DELSS6Q",
      "include_colab_link": true
    },
    "kernelspec": {
      "name": "python3",
      "display_name": "Python 3"
    },
    "accelerator": "GPU"
  },
  "cells": [
    {
      "cell_type": "markdown",
      "metadata": {
        "id": "view-in-github",
        "colab_type": "text"
      },
      "source": [
        "<a href=\"https://colab.research.google.com/github/vedant-jad99/ML_Projects/blob/master/ConvNet1_hwdr.ipynb\" target=\"_parent\"><img src=\"https://colab.research.google.com/assets/colab-badge.svg\" alt=\"Open In Colab\"/></a>"
      ]
    },
    {
      "cell_type": "code",
      "metadata": {
        "id": "pjOhsrvi1_Ms",
        "colab_type": "code",
        "colab": {}
      },
      "source": [
        "from tensorflow.keras.layers import Conv2D, MaxPool2D, Dense, Flatten\n",
        "from tensorflow.keras.models import Sequential as Seq \n",
        "from tensorflow.keras import initializers\n",
        "from tensorflow.keras.losses import CategoricalCrossentropy as categorical_crossentropy\n",
        "from tensorflow.keras.utils import to_categorical\n",
        "import matplotlib.pyplot as plt\n",
        "import numpy as np\n",
        "from tensorflow.keras.datasets import mnist"
      ],
      "execution_count": 0,
      "outputs": []
    },
    {
      "cell_type": "code",
      "metadata": {
        "id": "BtIhWCDK-W5u",
        "colab_type": "code",
        "colab": {}
      },
      "source": [
        "(X_train, y_train), (X_test, y_test) = mnist.load_data()"
      ],
      "execution_count": 0,
      "outputs": []
    },
    {
      "cell_type": "code",
      "metadata": {
        "id": "g2Dvv32Z-hoe",
        "colab_type": "code",
        "outputId": "934286b7-a8ef-40a7-ccfd-cf9d97819b9c",
        "colab": {
          "base_uri": "https://localhost:8080/",
          "height": 282
        }
      },
      "source": [
        "plt.imshow(X_train[0], cmap= 'gray')\n",
        "print(y_train[0])"
      ],
      "execution_count": 0,
      "outputs": [
        {
          "output_type": "stream",
          "text": [
            "5\n"
          ],
          "name": "stdout"
        },
        {
          "output_type": "display_data",
          "data": {
            "image/png": "[encoded data removed]",
            "text/plain": [
              "<Figure size 432x288 with 1 Axes>"
            ]
          },
          "metadata": {
            "tags": [],
            "needs_background": "light"
          }
        }
      ]
    },
    {
      "cell_type": "code",
      "metadata": {
        "id": "8wAm1tvoBgNw",
        "colab_type": "code",
        "colab": {}
      },
      "source": [
        "def model(filter_arr, k_size, input_shape):\n",
        "  (f1, f2, f3) = filter_arr\n",
        "\n",
        "  model = Seq()\n",
        "  model.add(Conv2D(filters=f1, kernel_size=(k_size, k_size), padding='same', activation= 'relu', kernel_initializer= initializers.glorot_uniform(seed= 0), input_shape= input_shape))\n",
        "  model.add(MaxPool2D(strides= (2, 2)))\n",
        "  model.add(Conv2D(filters=f2, kernel_size=(k_size, k_size), padding='same', activation= 'relu', kernel_initializer= initializers.glorot_uniform(seed= 0)))  \n",
        "  model.add(MaxPool2D(strides=(1, 1)))\n",
        "  model.add(Conv2D(filters=f3, kernel_size=(k_size, k_size), strides=(2, 2), padding='valid', activation= 'sigmoid', kernel_initializer= initializers.glorot_uniform(seed= 0)))\n",
        "  model.add(Flatten())\n",
        "  model.add(Dense(units= 128, activation= 'relu'))\n",
        "  model.add(Dense(units= 10, activation= 'softmax'))\n",
        "\n",
        "  return model"
      ],
      "execution_count": 0,
      "outputs": []
    },
    {
      "cell_type": "code",
      "metadata": {
        "id": "vNr23Fk9CeFk",
        "colab_type": "code",
        "outputId": "87deff19-9292-47fe-a4a3-3998adea543c",
        "colab": {
          "base_uri": "https://localhost:8080/",
          "height": 34
        }
      },
      "source": [
        "filter_arr = (16, 64, 128)\n",
        "k_size = 5\n",
        "X_train = X_train.astype('float64')\n",
        "X_train /= 255\n",
        "X_test = X_test.astype('float64')\n",
        "X_test /= 255\n",
        "X_train = X_train.reshape((X_train.shape[0], X_train.shape[1], X_train.shape[1], 1))\n",
        "X_test = X_test.reshape((X_test.shape[0], X_test.shape[1], X_test.shape[1], 1))\n",
        "input_shape = (28, 28, 1)\n",
        "y_train = to_categorical(y_train)\n",
        "y_test = to_categorical(y_test)\n",
        "\n",
        "print(X_train.shape, X_test.shape)"
      ],
      "execution_count": 0,
      "outputs": [
        {
          "output_type": "stream",
          "text": [
            "(60000, 28, 28, 1) (10000, 28, 28, 1)\n"
          ],
          "name": "stdout"
        }
      ]
    },
    {
      "cell_type": "code",
      "metadata": {
        "id": "y3bC1k4Jfa_U",
        "colab_type": "code",
        "colab": {}
      },
      "source": [
        "model = model(filter_arr, k_size, input_shape)\n",
        "model.compile(optimizer= 'adam', loss= 'categorical_crossentropy', metrics= ['accuracy'])"
      ],
      "execution_count": 0,
      "outputs": []
    },
    {
      "cell_type": "code",
      "metadata": {
        "id": "kXfns34dgtr4",
        "colab_type": "code",
        "outputId": "8fc421e1-8b25-46b9-92b5-31f694eb98f6",
        "colab": {
          "base_uri": "https://localhost:8080/",
          "height": 370
        }
      },
      "source": [
        "model.fit(X_train, y_train, batch_size= 64, epochs= 10)"
      ],
      "execution_count": 0,
      "outputs": [
        {
          "output_type": "stream",
          "text": [
            "Epoch 1/10\n",
            "938/938 [==============================] - 9s 10ms/step - loss: 0.2523 - accuracy: 0.9184\n",
            "Epoch 2/10\n",
            "938/938 [==============================] - 9s 10ms/step - loss: 0.0514 - accuracy: 0.9844\n",
            "Epoch 3/10\n",
            "938/938 [==============================] - 9s 10ms/step - loss: 0.0374 - accuracy: 0.9881\n",
            "Epoch 4/10\n",
            "938/938 [==============================] - 9s 10ms/step - loss: 0.0278 - accuracy: 0.9913\n",
            "Epoch 5/10\n",
            "938/938 [==============================] - 9s 10ms/step - loss: 0.0228 - accuracy: 0.9926\n",
            "Epoch 6/10\n",
            "938/938 [==============================] - 9s 10ms/step - loss: 0.0178 - accuracy: 0.9944\n",
            "Epoch 7/10\n",
            "938/938 [==============================] - 9s 10ms/step - loss: 0.0148 - accuracy: 0.9954\n",
            "Epoch 8/10\n",
            "938/938 [==============================] - 9s 10ms/step - loss: 0.0131 - accuracy: 0.9958\n",
            "Epoch 9/10\n",
            "938/938 [==============================] - 9s 10ms/step - loss: 0.0113 - accuracy: 0.9961\n",
            "Epoch 10/10\n",
            "938/938 [==============================] - 9s 10ms/step - loss: 0.0091 - accuracy: 0.9966\n"
          ],
          "name": "stdout"
        },
        {
          "output_type": "execute_result",
          "data": {
            "text/plain": [
              "<tensorflow.python.keras.callbacks.History at 0x7fc8493f2240>"
            ]
          },
          "metadata": {
            "tags": []
          },
          "execution_count": 205
        }
      ]
    },
    {
      "cell_type": "code",
      "metadata": {
        "id": "hFYOae3mmY-B",
        "colab_type": "code",
        "outputId": "23b64335-b1fb-4e2d-f15a-1be8061d1dfd",
        "colab": {
          "base_uri": "https://localhost:8080/",
          "height": 50
        }
      },
      "source": [
        "model.evaluate(X_test, y_test)"
      ],
      "execution_count": 0,
      "outputs": [
        {
          "output_type": "stream",
          "text": [
            "313/313 [==============================] - 1s 5ms/step - loss: 0.0350 - accuracy: 0.9906\n"
          ],
          "name": "stdout"
        },
        {
          "output_type": "execute_result",
          "data": {
            "text/plain": [
              "[0.034951020032167435, 0.9905999898910522]"
            ]
          },
          "metadata": {
            "tags": []
          },
          "execution_count": 206
        }
      ]
    },
    {
      "cell_type": "code",
      "metadata": {
        "id": "g9wzvJQYrCNZ",
        "colab_type": "code",
        "outputId": "a5ec1e4a-7bc6-4a7b-deb4-47aa32a068c7",
        "colab": {
          "base_uri": "https://localhost:8080/",
          "height": 133
        }
      },
      "source": [
        "start_index = int(input(\"Start index: \"))\n",
        "imag_count = int(input(\"Count: \"))\n",
        "if start_index + imag_count < X_test.shape[0]:\n",
        "  final = X_test[start_index].reshape((X_test.shape[1], X_test.shape[2]))\n",
        "\n",
        "  for i in range(1, imag_count):\n",
        "    arr = X_test[start_index + i].reshape((X_test.shape[1], X_test.shape[2]))\n",
        "    final = np.concatenate((final, arr), axis= 1)\n",
        "\n",
        "  plt.imshow(final, cmap= 'gray')"
      ],
      "execution_count": 0,
      "outputs": [
        {
          "output_type": "stream",
          "text": [
            "Start index: 1239\n",
            "Count: 7\n"
          ],
          "name": "stdout"
        },
        {
          "output_type": "display_data",
          "data": {
            "image/png": "[encoded data removed]",
            "text/plain": [
              "<Figure size 432x288 with 1 Axes>"
            ]
          },
          "metadata": {
            "tags": [],
            "needs_background": "light"
          }
        }
      ]
    },
    {
      "cell_type": "code",
      "metadata": {
        "id": "4nh4x__LrRjr",
        "colab_type": "code",
        "outputId": "229ece8f-6c1a-4fd5-b876-5791455bf1d7",
        "colab": {
          "base_uri": "https://localhost:8080/",
          "height": 34
        }
      },
      "source": [
        "arr = X_test[start_index:start_index + imag_count]\n",
        "out = model.predict(arr)\n",
        "for i in out:\n",
        "  print(i.argmax(), end= \", \")"
      ],
      "execution_count": 0,
      "outputs": [
        {
          "output_type": "stream",
          "text": [
            "3, 1, 7, 9, 5, 7, 2, "
          ],
          "name": "stdout"
        }
      ]
    },
    {
      "cell_type": "code",
      "metadata": {
        "id": "KRH3_6Ecrlhe",
        "colab_type": "code",
        "outputId": "2d300200-310e-46b2-b8c8-5df9a0f42d45",
        "colab": {
          "base_uri": "https://localhost:8080/",
          "height": 420
        }
      },
      "source": [
        "model.summary()"
      ],
      "execution_count": 0,
      "outputs": [
        {
          "output_type": "stream",
          "text": [
            "Model: \"sequential_14\"\n",
            "_________________________________________________________________\n",
            "Layer (type)                 Output Shape              Param #   \n",
            "=================================================================\n",
            "conv2d_39 (Conv2D)           (None, 28, 28, 16)        416       \n",
            "_________________________________________________________________\n",
            "max_pooling2d_26 (MaxPooling (None, 14, 14, 16)        0         \n",
            "_________________________________________________________________\n",
            "conv2d_40 (Conv2D)           (None, 14, 14, 64)        25664     \n",
            "_________________________________________________________________\n",
            "max_pooling2d_27 (MaxPooling (None, 13, 13, 64)        0         \n",
            "_________________________________________________________________\n",
            "conv2d_41 (Conv2D)           (None, 5, 5, 128)         204928    \n",
            "_________________________________________________________________\n",
            "flatten_12 (Flatten)         (None, 3200)              0         \n",
            "_________________________________________________________________\n",
            "dense_24 (Dense)             (None, 128)               409728    \n",
            "_________________________________________________________________\n",
            "dense_25 (Dense)             (None, 10)                1290      \n",
            "=================================================================\n",
            "Total params: 642,026\n",
            "Trainable params: 642,026\n",
            "Non-trainable params: 0\n",
            "_________________________________________________________________\n"
          ],
          "name": "stdout"
        }
      ]
    },
    {
      "cell_type": "code",
      "metadata": {
        "id": "9oYVOEUb3cuY",
        "colab_type": "code",
        "colab": {}
      },
      "source": [
        ""
      ],
      "execution_count": 0,
      "outputs": []
    }
  ]
}